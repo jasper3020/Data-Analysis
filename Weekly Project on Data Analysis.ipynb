{
 "cells": [
  {
   "cell_type": "markdown",
   "metadata": {},
   "source": [
    "Import Data Analysis Libraries"
   ]
  },
  {
   "cell_type": "markdown",
   "metadata": {},
   "source": [
    "# VELMA-ARC Rehabilitation Bootcamp 2.0\n",
    "\n",
    "<a href=\"'https://classroom.google.com/c/NTA1NjA0MTMwNzQ1?cjc=4u6on64'\">Join the google classroom using this link</a>\n",
    "* Assigments will be shared in the class room and should be submitted. \n",
    "*Question and answers can be posted in the online class"
   ]
  },
  {
   "cell_type": "markdown",
   "metadata": {},
   "source": [
    "Import Data Analysis Libraries: There are four libraries to import"
   ]
  },
  {
   "cell_type": "code",
   "execution_count": 1,
   "metadata": {},
   "outputs": [],
   "source": [
    "import numpy as np\n",
    "import pandas as pd\n",
    "import matplotlib.pyplot as plt\n",
    "import seaborn as sns\n",
    "%matplotlib inline"
   ]
  },
  {
   "cell_type": "markdown",
   "metadata": {},
   "source": [
    "Read in the data"
   ]
  },
  {
   "cell_type": "code",
   "execution_count": 3,
   "metadata": {},
   "outputs": [
    {
     "data": {
      "text/html": [
       "<div>\n",
       "<style>\n",
       "    .dataframe thead tr:only-child th {\n",
       "        text-align: right;\n",
       "    }\n",
       "\n",
       "    .dataframe thead th {\n",
       "        text-align: left;\n",
       "    }\n",
       "\n",
       "    .dataframe tbody tr th {\n",
       "        vertical-align: top;\n",
       "    }\n",
       "</style>\n",
       "<table border=\"1\" class=\"dataframe\">\n",
       "  <thead>\n",
       "    <tr style=\"text-align: right;\">\n",
       "      <th></th>\n",
       "      <th>App</th>\n",
       "      <th>Category</th>\n",
       "      <th>Rating</th>\n",
       "      <th>Reviews</th>\n",
       "      <th>Size</th>\n",
       "      <th>Installs</th>\n",
       "      <th>Type</th>\n",
       "      <th>Price</th>\n",
       "      <th>Content Rating</th>\n",
       "      <th>Genres</th>\n",
       "      <th>Last Updated</th>\n",
       "      <th>Current Ver</th>\n",
       "      <th>Android Ver</th>\n",
       "    </tr>\n",
       "  </thead>\n",
       "  <tbody>\n",
       "    <tr>\n",
       "      <th>0</th>\n",
       "      <td>Photo Editor &amp; Candy Camera &amp; Grid &amp; ScrapBook</td>\n",
       "      <td>ART_AND_DESIGN</td>\n",
       "      <td>4.1</td>\n",
       "      <td>159</td>\n",
       "      <td>19.0</td>\n",
       "      <td>10,000+</td>\n",
       "      <td>Free</td>\n",
       "      <td>0</td>\n",
       "      <td>Everyone</td>\n",
       "      <td>Art &amp; Design</td>\n",
       "      <td>January 7, 2018</td>\n",
       "      <td>1.0.0</td>\n",
       "      <td>4.0.3 and up</td>\n",
       "    </tr>\n",
       "    <tr>\n",
       "      <th>1</th>\n",
       "      <td>Coloring book moana</td>\n",
       "      <td>ART_AND_DESIGN</td>\n",
       "      <td>3.9</td>\n",
       "      <td>967</td>\n",
       "      <td>14.0</td>\n",
       "      <td>500,000+</td>\n",
       "      <td>Free</td>\n",
       "      <td>0</td>\n",
       "      <td>Everyone</td>\n",
       "      <td>Art &amp; Design;Pretend Play</td>\n",
       "      <td>January 15, 2018</td>\n",
       "      <td>2.0.0</td>\n",
       "      <td>4.0.3 and up</td>\n",
       "    </tr>\n",
       "    <tr>\n",
       "      <th>2</th>\n",
       "      <td>U Launcher Lite – FREE Live Cool Themes, Hide ...</td>\n",
       "      <td>ART_AND_DESIGN</td>\n",
       "      <td>4.7</td>\n",
       "      <td>87510</td>\n",
       "      <td>8.7</td>\n",
       "      <td>5,000,000+</td>\n",
       "      <td>Free</td>\n",
       "      <td>0</td>\n",
       "      <td>Everyone</td>\n",
       "      <td>Art &amp; Design</td>\n",
       "      <td>August 1, 2018</td>\n",
       "      <td>1.2.4</td>\n",
       "      <td>4.0.3 and up</td>\n",
       "    </tr>\n",
       "    <tr>\n",
       "      <th>3</th>\n",
       "      <td>Sketch - Draw &amp; Paint</td>\n",
       "      <td>ART_AND_DESIGN</td>\n",
       "      <td>4.5</td>\n",
       "      <td>215644</td>\n",
       "      <td>25.0</td>\n",
       "      <td>50,000,000+</td>\n",
       "      <td>Free</td>\n",
       "      <td>0</td>\n",
       "      <td>Teen</td>\n",
       "      <td>Art &amp; Design</td>\n",
       "      <td>June 8, 2018</td>\n",
       "      <td>Varies with device</td>\n",
       "      <td>4.2 and up</td>\n",
       "    </tr>\n",
       "    <tr>\n",
       "      <th>4</th>\n",
       "      <td>Pixel Draw - Number Art Coloring Book</td>\n",
       "      <td>ART_AND_DESIGN</td>\n",
       "      <td>4.3</td>\n",
       "      <td>967</td>\n",
       "      <td>2.8</td>\n",
       "      <td>100,000+</td>\n",
       "      <td>Free</td>\n",
       "      <td>0</td>\n",
       "      <td>Everyone</td>\n",
       "      <td>Art &amp; Design;Creativity</td>\n",
       "      <td>June 20, 2018</td>\n",
       "      <td>1.1</td>\n",
       "      <td>4.4 and up</td>\n",
       "    </tr>\n",
       "  </tbody>\n",
       "</table>\n",
       "</div>"
      ],
      "text/plain": [
       "                                                 App        Category  Rating  \\\n",
       "0     Photo Editor & Candy Camera & Grid & ScrapBook  ART_AND_DESIGN     4.1   \n",
       "1                                Coloring book moana  ART_AND_DESIGN     3.9   \n",
       "2  U Launcher Lite – FREE Live Cool Themes, Hide ...  ART_AND_DESIGN     4.7   \n",
       "3                              Sketch - Draw & Paint  ART_AND_DESIGN     4.5   \n",
       "4              Pixel Draw - Number Art Coloring Book  ART_AND_DESIGN     4.3   \n",
       "\n",
       "   Reviews  Size     Installs  Type Price Content Rating  \\\n",
       "0      159  19.0      10,000+  Free     0       Everyone   \n",
       "1      967  14.0     500,000+  Free     0       Everyone   \n",
       "2    87510   8.7   5,000,000+  Free     0       Everyone   \n",
       "3   215644  25.0  50,000,000+  Free     0           Teen   \n",
       "4      967   2.8     100,000+  Free     0       Everyone   \n",
       "\n",
       "                      Genres      Last Updated         Current Ver  \\\n",
       "0               Art & Design   January 7, 2018               1.0.0   \n",
       "1  Art & Design;Pretend Play  January 15, 2018               2.0.0   \n",
       "2               Art & Design    August 1, 2018               1.2.4   \n",
       "3               Art & Design      June 8, 2018  Varies with device   \n",
       "4    Art & Design;Creativity     June 20, 2018                 1.1   \n",
       "\n",
       "    Android Ver  \n",
       "0  4.0.3 and up  \n",
       "1  4.0.3 and up  \n",
       "2  4.0.3 and up  \n",
       "3    4.2 and up  \n",
       "4    4.4 and up  "
      ]
     },
     "execution_count": 3,
     "metadata": {},
     "output_type": "execute_result"
    }
   ],
   "source": [
    "df = pd.read_csv('./datasets/apps.csv')\n",
    "\n",
    "df.head()"
   ]
  },
  {
   "cell_type": "markdown",
   "metadata": {},
   "source": [
    "Check the information of the data"
   ]
  },
  {
   "cell_type": "code",
   "execution_count": 4,
   "metadata": {},
   "outputs": [
    {
     "name": "stdout",
     "output_type": "stream",
     "text": [
      "<class 'pandas.core.frame.DataFrame'>\n",
      "RangeIndex: 9659 entries, 0 to 9658\n",
      "Data columns (total 13 columns):\n",
      "App               9659 non-null object\n",
      "Category          9659 non-null object\n",
      "Rating            8196 non-null float64\n",
      "Reviews           9659 non-null int64\n",
      "Size              8432 non-null float64\n",
      "Installs          9659 non-null object\n",
      "Type              9659 non-null object\n",
      "Price             9659 non-null object\n",
      "Content Rating    9659 non-null object\n",
      "Genres            9659 non-null object\n",
      "Last Updated      9659 non-null object\n",
      "Current Ver       9651 non-null object\n",
      "Android Ver       9657 non-null object\n",
      "dtypes: float64(2), int64(1), object(10)\n",
      "memory usage: 981.1+ KB\n"
     ]
    }
   ],
   "source": [
    "df.info()"
   ]
  },
  {
   "cell_type": "markdown",
   "metadata": {},
   "source": [
    "What is the shape of the data"
   ]
  },
  {
   "cell_type": "code",
   "execution_count": 5,
   "metadata": {},
   "outputs": [
    {
     "data": {
      "text/plain": [
       "(9659, 13)"
      ]
     },
     "execution_count": 5,
     "metadata": {},
     "output_type": "execute_result"
    }
   ],
   "source": [
    "df.shape"
   ]
  },
  {
   "cell_type": "markdown",
   "metadata": {},
   "source": [
    "Check the summary statistics of the data"
   ]
  },
  {
   "cell_type": "code",
   "execution_count": 6,
   "metadata": {},
   "outputs": [
    {
     "data": {
      "text/html": [
       "<div>\n",
       "<style>\n",
       "    .dataframe thead tr:only-child th {\n",
       "        text-align: right;\n",
       "    }\n",
       "\n",
       "    .dataframe thead th {\n",
       "        text-align: left;\n",
       "    }\n",
       "\n",
       "    .dataframe tbody tr th {\n",
       "        vertical-align: top;\n",
       "    }\n",
       "</style>\n",
       "<table border=\"1\" class=\"dataframe\">\n",
       "  <thead>\n",
       "    <tr style=\"text-align: right;\">\n",
       "      <th></th>\n",
       "      <th>Rating</th>\n",
       "      <th>Reviews</th>\n",
       "      <th>Size</th>\n",
       "    </tr>\n",
       "  </thead>\n",
       "  <tbody>\n",
       "    <tr>\n",
       "      <th>count</th>\n",
       "      <td>8196.000000</td>\n",
       "      <td>9.659000e+03</td>\n",
       "      <td>8432.000000</td>\n",
       "    </tr>\n",
       "    <tr>\n",
       "      <th>mean</th>\n",
       "      <td>4.173243</td>\n",
       "      <td>2.165926e+05</td>\n",
       "      <td>20.395327</td>\n",
       "    </tr>\n",
       "    <tr>\n",
       "      <th>std</th>\n",
       "      <td>0.536625</td>\n",
       "      <td>1.831320e+06</td>\n",
       "      <td>21.827509</td>\n",
       "    </tr>\n",
       "    <tr>\n",
       "      <th>min</th>\n",
       "      <td>1.000000</td>\n",
       "      <td>0.000000e+00</td>\n",
       "      <td>0.000000</td>\n",
       "    </tr>\n",
       "    <tr>\n",
       "      <th>25%</th>\n",
       "      <td>4.000000</td>\n",
       "      <td>2.500000e+01</td>\n",
       "      <td>4.600000</td>\n",
       "    </tr>\n",
       "    <tr>\n",
       "      <th>50%</th>\n",
       "      <td>4.300000</td>\n",
       "      <td>9.670000e+02</td>\n",
       "      <td>12.000000</td>\n",
       "    </tr>\n",
       "    <tr>\n",
       "      <th>75%</th>\n",
       "      <td>4.500000</td>\n",
       "      <td>2.940100e+04</td>\n",
       "      <td>28.000000</td>\n",
       "    </tr>\n",
       "    <tr>\n",
       "      <th>max</th>\n",
       "      <td>5.000000</td>\n",
       "      <td>7.815831e+07</td>\n",
       "      <td>100.000000</td>\n",
       "    </tr>\n",
       "  </tbody>\n",
       "</table>\n",
       "</div>"
      ],
      "text/plain": [
       "            Rating       Reviews         Size\n",
       "count  8196.000000  9.659000e+03  8432.000000\n",
       "mean      4.173243  2.165926e+05    20.395327\n",
       "std       0.536625  1.831320e+06    21.827509\n",
       "min       1.000000  0.000000e+00     0.000000\n",
       "25%       4.000000  2.500000e+01     4.600000\n",
       "50%       4.300000  9.670000e+02    12.000000\n",
       "75%       4.500000  2.940100e+04    28.000000\n",
       "max       5.000000  7.815831e+07   100.000000"
      ]
     },
     "execution_count": 6,
     "metadata": {},
     "output_type": "execute_result"
    }
   ],
   "source": [
    "df.describe()"
   ]
  },
  {
   "cell_type": "markdown",
   "metadata": {},
   "source": [
    "Check if there are missing values in the data"
   ]
  },
  {
   "cell_type": "code",
   "execution_count": 9,
   "metadata": {},
   "outputs": [
    {
     "data": {
      "text/plain": [
       "App                  0\n",
       "Category             0\n",
       "Rating            1463\n",
       "Reviews              0\n",
       "Size              1227\n",
       "Installs             0\n",
       "Type                 0\n",
       "Price                0\n",
       "Content Rating       0\n",
       "Genres               0\n",
       "Last Updated         0\n",
       "Current Ver          8\n",
       "Android Ver          2\n",
       "dtype: int64"
      ]
     },
     "execution_count": 9,
     "metadata": {},
     "output_type": "execute_result"
    }
   ],
   "source": [
    "df.isnull().sum()"
   ]
  },
  {
   "cell_type": "markdown",
   "metadata": {},
   "source": [
    "Answer the following questions base on the analysis you did above\n",
    "* What is the total entries in the data (number of rows) ?\n",
    "* How many columns are in the data ?\n",
    "* How many missing values are in Rating ?"
   ]
  },
  {
   "cell_type": "markdown",
   "metadata": {},
   "source": [
    "Drop missing values from the data"
   ]
  },
  {
   "cell_type": "code",
   "execution_count": 12,
   "metadata": {},
   "outputs": [],
   "source": [
    "# your code here: drop missing value\n",
    "df= df.dropna()"
   ]
  },
  {
   "cell_type": "code",
   "execution_count": 14,
   "metadata": {},
   "outputs": [
    {
     "data": {
      "text/plain": [
       "App               0\n",
       "Category          0\n",
       "Rating            0\n",
       "Reviews           0\n",
       "Size              0\n",
       "Installs          0\n",
       "Type              0\n",
       "Price             0\n",
       "Content Rating    0\n",
       "Genres            0\n",
       "Last Updated      0\n",
       "Current Ver       0\n",
       "Android Ver       0\n",
       "dtype: int64"
      ]
     },
     "execution_count": 14,
     "metadata": {},
     "output_type": "execute_result"
    }
   ],
   "source": [
    "df.isnull().sum()"
   ]
  },
  {
   "cell_type": "markdown",
   "metadata": {},
   "source": [
    "How many apps are free Type?"
   ]
  },
  {
   "cell_type": "code",
   "execution_count": 17,
   "metadata": {},
   "outputs": [
    {
     "data": {
      "text/plain": [
       "Free    6482\n",
       "Paid     539\n",
       "Name: Type, dtype: int64"
      ]
     },
     "execution_count": 17,
     "metadata": {},
     "output_type": "execute_result"
    }
   ],
   "source": [
    "df['Type'].value_counts()"
   ]
  },
  {
   "cell_type": "markdown",
   "metadata": {},
   "source": [
    "How many Categories of apps are there in the data"
   ]
  },
  {
   "cell_type": "code",
   "execution_count": 18,
   "metadata": {},
   "outputs": [
    {
     "data": {
      "text/plain": [
       "33"
      ]
     },
     "execution_count": 18,
     "metadata": {},
     "output_type": "execute_result"
    }
   ],
   "source": [
    "df['Category'].nunique()"
   ]
  },
  {
   "cell_type": "markdown",
   "metadata": {},
   "source": [
    "Lets check how many type of app are there in the data"
   ]
  },
  {
   "cell_type": "code",
   "execution_count": 19,
   "metadata": {},
   "outputs": [
    {
     "data": {
      "text/plain": [
       "array(['Free', 'Paid'], dtype=object)"
      ]
     },
     "execution_count": 19,
     "metadata": {},
     "output_type": "execute_result"
    }
   ],
   "source": [
    "df['Type'].unique()"
   ]
  },
  {
   "cell_type": "markdown",
   "metadata": {},
   "source": [
    "There are two types of data: Free and Paid"
   ]
  },
  {
   "cell_type": "markdown",
   "metadata": {},
   "source": [
    "We want to analyze the types of app. Is it that all free apps have price as 0.\n",
    "First lets check the price column\n",
    "\n",
    "* check the price column"
   ]
  },
  {
   "cell_type": "code",
   "execution_count": 21,
   "metadata": {},
   "outputs": [
    {
     "data": {
      "text/plain": [
       "0       0\n",
       "1       0\n",
       "2       0\n",
       "3       0\n",
       "4       0\n",
       "5       0\n",
       "6       0\n",
       "7       0\n",
       "8       0\n",
       "9       0\n",
       "10      0\n",
       "11      0\n",
       "12      0\n",
       "13      0\n",
       "14      0\n",
       "16      0\n",
       "17      0\n",
       "18      0\n",
       "19      0\n",
       "20      0\n",
       "21      0\n",
       "22      0\n",
       "24      0\n",
       "25      0\n",
       "26      0\n",
       "27      0\n",
       "28      0\n",
       "29      0\n",
       "30      0\n",
       "31      0\n",
       "       ..\n",
       "9610    0\n",
       "9611    0\n",
       "9613    0\n",
       "9614    0\n",
       "9615    0\n",
       "9617    0\n",
       "9618    0\n",
       "9619    0\n",
       "9620    0\n",
       "9621    0\n",
       "9622    0\n",
       "9623    0\n",
       "9627    0\n",
       "9628    0\n",
       "9630    0\n",
       "9632    0\n",
       "9633    0\n",
       "9635    0\n",
       "9637    0\n",
       "9638    0\n",
       "9645    0\n",
       "9646    0\n",
       "9647    0\n",
       "9648    0\n",
       "9650    0\n",
       "9651    0\n",
       "9652    0\n",
       "9654    0\n",
       "9655    0\n",
       "9658    0\n",
       "Name: Price, Length: 7021, dtype: object"
      ]
     },
     "execution_count": 21,
     "metadata": {},
     "output_type": "execute_result"
    }
   ],
   "source": [
    "df['Price']"
   ]
  },
  {
   "cell_type": "markdown",
   "metadata": {},
   "source": [
    "_We will notice that at the bottom it displays the dtype (datatype) as object. Meaning its not a number  but we expect price to be a number. \n",
    "Lets further check the data type of the price column_\n",
    "* check the datatype of price column: is it 'O' as in object?\n",
    "* Retrieve a single value from the column and check the type using the type() function. what is the type?"
   ]
  },
  {
   "cell_type": "code",
   "execution_count": 22,
   "metadata": {},
   "outputs": [
    {
     "data": {
      "text/plain": [
       "dtype('O')"
      ]
     },
     "execution_count": 22,
     "metadata": {},
     "output_type": "execute_result"
    }
   ],
   "source": [
    "df['Price'].dtype"
   ]
  },
  {
   "cell_type": "code",
   "execution_count": 23,
   "metadata": {},
   "outputs": [
    {
     "data": {
      "text/plain": [
       "str"
      ]
     },
     "execution_count": 23,
     "metadata": {},
     "output_type": "execute_result"
    }
   ],
   "source": [
    "price = df['Price'][0]\n",
    "\n",
    "type(price)"
   ]
  },
  {
   "cell_type": "markdown",
   "metadata": {},
   "source": [
    "Lets investigate the column further to find out why it is represented as string.\\\n",
    "* Lets check if there are any other value different from 0\n",
    "* Run the below cell and check"
   ]
  },
  {
   "cell_type": "code",
   "execution_count": 25,
   "metadata": {},
   "outputs": [
    {
     "data": {
      "text/plain": [
       "233      $4.99\n",
       "234      $4.99\n",
       "407      $6.99\n",
       "411      $7.99\n",
       "687      $3.99\n",
       "688      $5.99\n",
       "689      $3.99\n",
       "690      $3.99\n",
       "790      $2.99\n",
       "1004     $4.99\n",
       "1101     $3.99\n",
       "1488     $2.99\n",
       "1489     $1.99\n",
       "1490     $4.99\n",
       "1491     $4.99\n",
       "1492     $4.99\n",
       "1493     $5.99\n",
       "1494     $6.99\n",
       "1495     $9.99\n",
       "1496     $4.99\n",
       "1610     $3.99\n",
       "1632     $2.99\n",
       "1633     $3.99\n",
       "1634     $2.99\n",
       "1684     $4.99\n",
       "1685     $3.99\n",
       "1686     $2.99\n",
       "1702     $2.99\n",
       "1703     $0.99\n",
       "1704     $0.99\n",
       "         ...  \n",
       "8888     $4.99\n",
       "8890     $4.99\n",
       "8891     $4.99\n",
       "8892     $4.99\n",
       "8900     $0.99\n",
       "8906     $0.99\n",
       "8912     $3.99\n",
       "8913     $1.49\n",
       "8961     $2.99\n",
       "9099     $1.99\n",
       "9270     $1.99\n",
       "9274     $2.99\n",
       "9276     $0.99\n",
       "9278     $7.99\n",
       "9285     $2.99\n",
       "9287     $1.99\n",
       "9288     $1.00\n",
       "9356     $3.49\n",
       "9365     $2.99\n",
       "9395     $1.99\n",
       "9408     $6.99\n",
       "9411     $0.99\n",
       "9419     $1.99\n",
       "9498     $0.99\n",
       "9505     $0.99\n",
       "9513     $0.99\n",
       "9520     $0.99\n",
       "9579     $7.99\n",
       "9600    $16.99\n",
       "9603     $1.20\n",
       "Name: Price, Length: 539, dtype: object"
      ]
     },
     "execution_count": 25,
     "metadata": {},
     "output_type": "execute_result"
    }
   ],
   "source": [
    " df[df['Price'] != '0']['Price']"
   ]
  },
  {
   "cell_type": "markdown",
   "metadata": {},
   "source": [
    "We can see that price contains the dollar (`'$'`) character. \\\n",
    "We need to remove the dollar sign and then convert the price column to number (float)\n",
    "\n",
    "We can easily remove the dollar (`'$'`) character using the strip method of python string.\n",
    "\n",
    "First to build your understanding on how the strip method works. we show how we can strip `'#'` from a string `test`"
   ]
  },
  {
   "cell_type": "code",
   "execution_count": 26,
   "metadata": {},
   "outputs": [
    {
     "name": "stdout",
     "output_type": "stream",
     "text": [
      "Before strip: #####This is a test case\n",
      "After strip: This is a test case\n"
     ]
    }
   ],
   "source": [
    "test = '#####This is a test case'\n",
    "print('Before strip:',test)\n",
    "test = test.strip('#')\n",
    "print('After strip:',test)"
   ]
  },
  {
   "cell_type": "markdown",
   "metadata": {},
   "source": [
    "Now lets remove the dollar sign from all price and convert to float \\\n",
    "We can do this easily using the apply() method of pandas for applying function to a each data\n",
    "\n",
    "* we will define a funtion that remove the '$' sign from a single price and converts the price to float."
   ]
  },
  {
   "cell_type": "code",
   "execution_count": 27,
   "metadata": {},
   "outputs": [],
   "source": [
    "def get_price(p):\n",
    "    #strip the '$' sign. where p is a single value\n",
    "    p = p.strip('$')\n",
    "    \n",
    "    # convert to float\n",
    "    p = float(p)\n",
    "    \n",
    "    return p"
   ]
  },
  {
   "cell_type": "markdown",
   "metadata": {},
   "source": [
    "Lets test our function on a single value to make sure it is working:\n",
    "* we will assign a string of the form '$4.79'\n",
    "* pass it to the `get_price()` function"
   ]
  },
  {
   "cell_type": "code",
   "execution_count": 28,
   "metadata": {},
   "outputs": [
    {
     "name": "stdout",
     "output_type": "stream",
     "text": [
      "type of price before: <class 'str'>\n",
      "type of price after: <class 'float'>\n"
     ]
    }
   ],
   "source": [
    "price = '$4.79'\n",
    "print('type of price before:', type(price))\n",
    "price = get_price(price)\n",
    "print('type of price after:', type(price))"
   ]
  },
  {
   "cell_type": "markdown",
   "metadata": {},
   "source": [
    "Now we can see that our function is working very well. Lets apply it to our price column\n",
    "* using the apply method. apply the `get_price` function on the price column to convert our price column to float"
   ]
  },
  {
   "cell_type": "markdown",
   "metadata": {},
   "source": [
    "_For us to work with this column we need to\n",
    "change the data to float._ \\\n",
    "*We can do this easily using the apply() method of pandas*\n",
    "* convert the data in price column to float"
   ]
  },
  {
   "cell_type": "code",
   "execution_count": 29,
   "metadata": {},
   "outputs": [
    {
     "data": {
      "text/plain": [
       "dtype('float64')"
      ]
     },
     "execution_count": 29,
     "metadata": {},
     "output_type": "execute_result"
    }
   ],
   "source": [
    "df['Price'] = df['Price'].apply(get_price)\n",
    "# check the type of price\n",
    "df['Price'].dtype"
   ]
  },
  {
   "cell_type": "markdown",
   "metadata": {},
   "source": [
    "Our Price column is now float type \\ Lets analyze our data more and do some visualization\n",
    "* First going back to our initial question. Are all free apps having 0 price\n",
    "> Get all data that are free. Save to a variable `free` \\\n",
    "> Hint: subset the data"
   ]
  },
  {
   "cell_type": "code",
   "execution_count": 31,
   "metadata": {},
   "outputs": [],
   "source": [
    "free = df[df['Type']=='Free']\n"
   ]
  },
  {
   "cell_type": "code",
   "execution_count": 32,
   "metadata": {},
   "outputs": [
    {
     "data": {
      "text/html": [
       "<div>\n",
       "<style>\n",
       "    .dataframe thead tr:only-child th {\n",
       "        text-align: right;\n",
       "    }\n",
       "\n",
       "    .dataframe thead th {\n",
       "        text-align: left;\n",
       "    }\n",
       "\n",
       "    .dataframe tbody tr th {\n",
       "        vertical-align: top;\n",
       "    }\n",
       "</style>\n",
       "<table border=\"1\" class=\"dataframe\">\n",
       "  <thead>\n",
       "    <tr style=\"text-align: right;\">\n",
       "      <th></th>\n",
       "      <th>App</th>\n",
       "      <th>Category</th>\n",
       "      <th>Rating</th>\n",
       "      <th>Reviews</th>\n",
       "      <th>Size</th>\n",
       "      <th>Installs</th>\n",
       "      <th>Type</th>\n",
       "      <th>Price</th>\n",
       "      <th>Content Rating</th>\n",
       "      <th>Genres</th>\n",
       "      <th>Last Updated</th>\n",
       "      <th>Current Ver</th>\n",
       "      <th>Android Ver</th>\n",
       "    </tr>\n",
       "  </thead>\n",
       "  <tbody>\n",
       "    <tr>\n",
       "      <th>0</th>\n",
       "      <td>Photo Editor &amp; Candy Camera &amp; Grid &amp; ScrapBook</td>\n",
       "      <td>ART_AND_DESIGN</td>\n",
       "      <td>4.1</td>\n",
       "      <td>159</td>\n",
       "      <td>19.0</td>\n",
       "      <td>10,000+</td>\n",
       "      <td>Free</td>\n",
       "      <td>0.0</td>\n",
       "      <td>Everyone</td>\n",
       "      <td>Art &amp; Design</td>\n",
       "      <td>January 7, 2018</td>\n",
       "      <td>1.0.0</td>\n",
       "      <td>4.0.3 and up</td>\n",
       "    </tr>\n",
       "    <tr>\n",
       "      <th>1</th>\n",
       "      <td>Coloring book moana</td>\n",
       "      <td>ART_AND_DESIGN</td>\n",
       "      <td>3.9</td>\n",
       "      <td>967</td>\n",
       "      <td>14.0</td>\n",
       "      <td>500,000+</td>\n",
       "      <td>Free</td>\n",
       "      <td>0.0</td>\n",
       "      <td>Everyone</td>\n",
       "      <td>Art &amp; Design;Pretend Play</td>\n",
       "      <td>January 15, 2018</td>\n",
       "      <td>2.0.0</td>\n",
       "      <td>4.0.3 and up</td>\n",
       "    </tr>\n",
       "    <tr>\n",
       "      <th>2</th>\n",
       "      <td>U Launcher Lite – FREE Live Cool Themes, Hide ...</td>\n",
       "      <td>ART_AND_DESIGN</td>\n",
       "      <td>4.7</td>\n",
       "      <td>87510</td>\n",
       "      <td>8.7</td>\n",
       "      <td>5,000,000+</td>\n",
       "      <td>Free</td>\n",
       "      <td>0.0</td>\n",
       "      <td>Everyone</td>\n",
       "      <td>Art &amp; Design</td>\n",
       "      <td>August 1, 2018</td>\n",
       "      <td>1.2.4</td>\n",
       "      <td>4.0.3 and up</td>\n",
       "    </tr>\n",
       "    <tr>\n",
       "      <th>3</th>\n",
       "      <td>Sketch - Draw &amp; Paint</td>\n",
       "      <td>ART_AND_DESIGN</td>\n",
       "      <td>4.5</td>\n",
       "      <td>215644</td>\n",
       "      <td>25.0</td>\n",
       "      <td>50,000,000+</td>\n",
       "      <td>Free</td>\n",
       "      <td>0.0</td>\n",
       "      <td>Teen</td>\n",
       "      <td>Art &amp; Design</td>\n",
       "      <td>June 8, 2018</td>\n",
       "      <td>Varies with device</td>\n",
       "      <td>4.2 and up</td>\n",
       "    </tr>\n",
       "    <tr>\n",
       "      <th>4</th>\n",
       "      <td>Pixel Draw - Number Art Coloring Book</td>\n",
       "      <td>ART_AND_DESIGN</td>\n",
       "      <td>4.3</td>\n",
       "      <td>967</td>\n",
       "      <td>2.8</td>\n",
       "      <td>100,000+</td>\n",
       "      <td>Free</td>\n",
       "      <td>0.0</td>\n",
       "      <td>Everyone</td>\n",
       "      <td>Art &amp; Design;Creativity</td>\n",
       "      <td>June 20, 2018</td>\n",
       "      <td>1.1</td>\n",
       "      <td>4.4 and up</td>\n",
       "    </tr>\n",
       "  </tbody>\n",
       "</table>\n",
       "</div>"
      ],
      "text/plain": [
       "                                                 App        Category  Rating  \\\n",
       "0     Photo Editor & Candy Camera & Grid & ScrapBook  ART_AND_DESIGN     4.1   \n",
       "1                                Coloring book moana  ART_AND_DESIGN     3.9   \n",
       "2  U Launcher Lite – FREE Live Cool Themes, Hide ...  ART_AND_DESIGN     4.7   \n",
       "3                              Sketch - Draw & Paint  ART_AND_DESIGN     4.5   \n",
       "4              Pixel Draw - Number Art Coloring Book  ART_AND_DESIGN     4.3   \n",
       "\n",
       "   Reviews  Size     Installs  Type  Price Content Rating  \\\n",
       "0      159  19.0      10,000+  Free    0.0       Everyone   \n",
       "1      967  14.0     500,000+  Free    0.0       Everyone   \n",
       "2    87510   8.7   5,000,000+  Free    0.0       Everyone   \n",
       "3   215644  25.0  50,000,000+  Free    0.0           Teen   \n",
       "4      967   2.8     100,000+  Free    0.0       Everyone   \n",
       "\n",
       "                      Genres      Last Updated         Current Ver  \\\n",
       "0               Art & Design   January 7, 2018               1.0.0   \n",
       "1  Art & Design;Pretend Play  January 15, 2018               2.0.0   \n",
       "2               Art & Design    August 1, 2018               1.2.4   \n",
       "3               Art & Design      June 8, 2018  Varies with device   \n",
       "4    Art & Design;Creativity     June 20, 2018                 1.1   \n",
       "\n",
       "    Android Ver  \n",
       "0  4.0.3 and up  \n",
       "1  4.0.3 and up  \n",
       "2  4.0.3 and up  \n",
       "3    4.2 and up  \n",
       "4    4.4 and up  "
      ]
     },
     "execution_count": 32,
     "metadata": {},
     "output_type": "execute_result"
    }
   ],
   "source": [
    "free.head()"
   ]
  },
  {
   "cell_type": "markdown",
   "metadata": {},
   "source": [
    "Since the result is a dataframe itself. we can perform operations on it like a dataframe \\\n",
    "We are interested in the price column.\n",
    "* describe the free app data : use the `describe()` method and subset only the price"
   ]
  },
  {
   "cell_type": "code",
   "execution_count": 34,
   "metadata": {},
   "outputs": [
    {
     "data": {
      "text/html": [
       "<div>\n",
       "<style>\n",
       "    .dataframe thead tr:only-child th {\n",
       "        text-align: right;\n",
       "    }\n",
       "\n",
       "    .dataframe thead th {\n",
       "        text-align: left;\n",
       "    }\n",
       "\n",
       "    .dataframe tbody tr th {\n",
       "        vertical-align: top;\n",
       "    }\n",
       "</style>\n",
       "<table border=\"1\" class=\"dataframe\">\n",
       "  <thead>\n",
       "    <tr style=\"text-align: right;\">\n",
       "      <th></th>\n",
       "      <th>Rating</th>\n",
       "      <th>Reviews</th>\n",
       "      <th>Size</th>\n",
       "      <th>Price</th>\n",
       "    </tr>\n",
       "  </thead>\n",
       "  <tbody>\n",
       "    <tr>\n",
       "      <th>count</th>\n",
       "      <td>6482.000000</td>\n",
       "      <td>6.482000e+03</td>\n",
       "      <td>6482.000000</td>\n",
       "      <td>6482.0</td>\n",
       "    </tr>\n",
       "    <tr>\n",
       "      <th>mean</th>\n",
       "      <td>4.153718</td>\n",
       "      <td>1.563714e+05</td>\n",
       "      <td>21.877198</td>\n",
       "      <td>0.0</td>\n",
       "    </tr>\n",
       "    <tr>\n",
       "      <th>std</th>\n",
       "      <td>0.557898</td>\n",
       "      <td>1.065337e+06</td>\n",
       "      <td>22.718975</td>\n",
       "      <td>0.0</td>\n",
       "    </tr>\n",
       "    <tr>\n",
       "      <th>min</th>\n",
       "      <td>1.000000</td>\n",
       "      <td>1.000000e+00</td>\n",
       "      <td>0.000000</td>\n",
       "      <td>0.0</td>\n",
       "    </tr>\n",
       "    <tr>\n",
       "      <th>25%</th>\n",
       "      <td>4.000000</td>\n",
       "      <td>9.900000e+01</td>\n",
       "      <td>5.025000</td>\n",
       "      <td>0.0</td>\n",
       "    </tr>\n",
       "    <tr>\n",
       "      <th>50%</th>\n",
       "      <td>4.300000</td>\n",
       "      <td>2.003000e+03</td>\n",
       "      <td>13.000000</td>\n",
       "      <td>0.0</td>\n",
       "    </tr>\n",
       "    <tr>\n",
       "      <th>75%</th>\n",
       "      <td>4.500000</td>\n",
       "      <td>3.140475e+04</td>\n",
       "      <td>31.000000</td>\n",
       "      <td>0.0</td>\n",
       "    </tr>\n",
       "    <tr>\n",
       "      <th>max</th>\n",
       "      <td>5.000000</td>\n",
       "      <td>4.489172e+07</td>\n",
       "      <td>100.000000</td>\n",
       "      <td>0.0</td>\n",
       "    </tr>\n",
       "  </tbody>\n",
       "</table>\n",
       "</div>"
      ],
      "text/plain": [
       "            Rating       Reviews         Size   Price\n",
       "count  6482.000000  6.482000e+03  6482.000000  6482.0\n",
       "mean      4.153718  1.563714e+05    21.877198     0.0\n",
       "std       0.557898  1.065337e+06    22.718975     0.0\n",
       "min       1.000000  1.000000e+00     0.000000     0.0\n",
       "25%       4.000000  9.900000e+01     5.025000     0.0\n",
       "50%       4.300000  2.003000e+03    13.000000     0.0\n",
       "75%       4.500000  3.140475e+04    31.000000     0.0\n",
       "max       5.000000  4.489172e+07   100.000000     0.0"
      ]
     },
     "execution_count": 34,
     "metadata": {},
     "output_type": "execute_result"
    }
   ],
   "source": [
    "free.describe()"
   ]
  },
  {
   "cell_type": "markdown",
   "metadata": {},
   "source": [
    "_We see that all statistics about the data are 0 except the count._ \\\n",
    "_we can now say with evidence that all free apps comes with zero price._"
   ]
  },
  {
   "cell_type": "markdown",
   "metadata": {},
   "source": [
    "Great! Lets go into some plotting.\n",
    "We will like to analyze the paid app type\\\n",
    "The same get the all apps that a paid and save in a variable `paid`"
   ]
  },
  {
   "cell_type": "code",
   "execution_count": 35,
   "metadata": {},
   "outputs": [],
   "source": [
    "paid = df[df['Type']=='Paid']"
   ]
  },
  {
   "cell_type": "code",
   "execution_count": 36,
   "metadata": {},
   "outputs": [
    {
     "data": {
      "text/html": [
       "<div>\n",
       "<style>\n",
       "    .dataframe thead tr:only-child th {\n",
       "        text-align: right;\n",
       "    }\n",
       "\n",
       "    .dataframe thead th {\n",
       "        text-align: left;\n",
       "    }\n",
       "\n",
       "    .dataframe tbody tr th {\n",
       "        vertical-align: top;\n",
       "    }\n",
       "</style>\n",
       "<table border=\"1\" class=\"dataframe\">\n",
       "  <thead>\n",
       "    <tr style=\"text-align: right;\">\n",
       "      <th></th>\n",
       "      <th>App</th>\n",
       "      <th>Category</th>\n",
       "      <th>Rating</th>\n",
       "      <th>Reviews</th>\n",
       "      <th>Size</th>\n",
       "      <th>Installs</th>\n",
       "      <th>Type</th>\n",
       "      <th>Price</th>\n",
       "      <th>Content Rating</th>\n",
       "      <th>Genres</th>\n",
       "      <th>Last Updated</th>\n",
       "      <th>Current Ver</th>\n",
       "      <th>Android Ver</th>\n",
       "    </tr>\n",
       "  </thead>\n",
       "  <tbody>\n",
       "    <tr>\n",
       "      <th>233</th>\n",
       "      <td>TurboScan: scan documents and receipts in PDF</td>\n",
       "      <td>BUSINESS</td>\n",
       "      <td>4.7</td>\n",
       "      <td>11442</td>\n",
       "      <td>6.8</td>\n",
       "      <td>100,000+</td>\n",
       "      <td>Paid</td>\n",
       "      <td>4.99</td>\n",
       "      <td>Everyone</td>\n",
       "      <td>Business</td>\n",
       "      <td>March 25, 2018</td>\n",
       "      <td>1.5.2</td>\n",
       "      <td>4.0 and up</td>\n",
       "    </tr>\n",
       "    <tr>\n",
       "      <th>234</th>\n",
       "      <td>Tiny Scanner Pro: PDF Doc Scan</td>\n",
       "      <td>BUSINESS</td>\n",
       "      <td>4.8</td>\n",
       "      <td>10295</td>\n",
       "      <td>39.0</td>\n",
       "      <td>100,000+</td>\n",
       "      <td>Paid</td>\n",
       "      <td>4.99</td>\n",
       "      <td>Everyone</td>\n",
       "      <td>Business</td>\n",
       "      <td>April 11, 2017</td>\n",
       "      <td>3.4.6</td>\n",
       "      <td>3.0 and up</td>\n",
       "    </tr>\n",
       "    <tr>\n",
       "      <th>407</th>\n",
       "      <td>Calculator</td>\n",
       "      <td>DATING</td>\n",
       "      <td>2.6</td>\n",
       "      <td>57</td>\n",
       "      <td>6.2</td>\n",
       "      <td>1,000+</td>\n",
       "      <td>Paid</td>\n",
       "      <td>6.99</td>\n",
       "      <td>Everyone</td>\n",
       "      <td>Dating</td>\n",
       "      <td>October 25, 2017</td>\n",
       "      <td>1.1.6</td>\n",
       "      <td>4.0 and up</td>\n",
       "    </tr>\n",
       "    <tr>\n",
       "      <th>411</th>\n",
       "      <td>AMBW Dating App: Asian Men Black Women Interra...</td>\n",
       "      <td>DATING</td>\n",
       "      <td>3.5</td>\n",
       "      <td>2</td>\n",
       "      <td>17.0</td>\n",
       "      <td>100+</td>\n",
       "      <td>Paid</td>\n",
       "      <td>7.99</td>\n",
       "      <td>Mature 17+</td>\n",
       "      <td>Dating</td>\n",
       "      <td>January 21, 2017</td>\n",
       "      <td>1.0.1</td>\n",
       "      <td>4.0 and up</td>\n",
       "    </tr>\n",
       "    <tr>\n",
       "      <th>687</th>\n",
       "      <td>Sago Mini Hat Maker</td>\n",
       "      <td>EDUCATION</td>\n",
       "      <td>4.9</td>\n",
       "      <td>11</td>\n",
       "      <td>63.0</td>\n",
       "      <td>1,000+</td>\n",
       "      <td>Paid</td>\n",
       "      <td>3.99</td>\n",
       "      <td>Everyone</td>\n",
       "      <td>Education;Pretend Play</td>\n",
       "      <td>July 24, 2017</td>\n",
       "      <td>1</td>\n",
       "      <td>4.0.3 and up</td>\n",
       "    </tr>\n",
       "  </tbody>\n",
       "</table>\n",
       "</div>"
      ],
      "text/plain": [
       "                                                   App   Category  Rating  \\\n",
       "233      TurboScan: scan documents and receipts in PDF   BUSINESS     4.7   \n",
       "234                     Tiny Scanner Pro: PDF Doc Scan   BUSINESS     4.8   \n",
       "407                                         Calculator     DATING     2.6   \n",
       "411  AMBW Dating App: Asian Men Black Women Interra...     DATING     3.5   \n",
       "687                                Sago Mini Hat Maker  EDUCATION     4.9   \n",
       "\n",
       "     Reviews  Size  Installs  Type  Price Content Rating  \\\n",
       "233    11442   6.8  100,000+  Paid   4.99       Everyone   \n",
       "234    10295  39.0  100,000+  Paid   4.99       Everyone   \n",
       "407       57   6.2    1,000+  Paid   6.99       Everyone   \n",
       "411        2  17.0      100+  Paid   7.99     Mature 17+   \n",
       "687       11  63.0    1,000+  Paid   3.99       Everyone   \n",
       "\n",
       "                     Genres      Last Updated Current Ver   Android Ver  \n",
       "233                Business    March 25, 2018       1.5.2    4.0 and up  \n",
       "234                Business    April 11, 2017       3.4.6    3.0 and up  \n",
       "407                  Dating  October 25, 2017       1.1.6    4.0 and up  \n",
       "411                  Dating  January 21, 2017       1.0.1    4.0 and up  \n",
       "687  Education;Pretend Play     July 24, 2017           1  4.0.3 and up  "
      ]
     },
     "execution_count": 36,
     "metadata": {},
     "output_type": "execute_result"
    }
   ],
   "source": [
    "paid.head()"
   ]
  },
  {
   "cell_type": "markdown",
   "metadata": {},
   "source": [
    "Lets take look at the price column\n",
    "* show the summary statistics of the price column using the `describe()` method"
   ]
  },
  {
   "cell_type": "code",
   "execution_count": 37,
   "metadata": {},
   "outputs": [
    {
     "data": {
      "text/plain": [
       "count    539.000000\n",
       "mean      15.295380\n",
       "std       64.095879\n",
       "min        0.990000\n",
       "25%        1.600000\n",
       "50%        2.990000\n",
       "75%        4.990000\n",
       "max      400.000000\n",
       "Name: Price, dtype: float64"
      ]
     },
     "execution_count": 37,
     "metadata": {},
     "output_type": "execute_result"
    }
   ],
   "source": [
    "paid.describe()['Price']"
   ]
  },
  {
   "cell_type": "markdown",
   "metadata": {},
   "source": [
    "Wow! The difference between the mean and the maximum data is very wide. \\\n",
    "Lets look at a distribution plot of the price column for the paid data \\\n",
    "* create distribution plot/histogram  of the price column\n",
    "> you can use the seaborn `displot()` method \\\n",
    "> you can use the matplotlib.pyplot `hist()` method \\\n",
    "> you can use the built-in pandas `hist()` method \\"
   ]
  },
  {
   "cell_type": "code",
   "execution_count": 57,
   "metadata": {},
   "outputs": [
    {
     "data": {
      "text/plain": [
       "<matplotlib.axes._subplots.AxesSubplot at 0x231c8d5bd88>"
      ]
     },
     "execution_count": 57,
     "metadata": {},
     "output_type": "execute_result"
    },
    {
     "data": {
      "image/png": "[encoded data removed]",
      "text/plain": [
       "<Figure size 432x288 with 1 Axes>"
      ]
     },
     "metadata": {
      "needs_background": "light"
     },
     "output_type": "display_data"
    }
   ],
   "source": [
    "sns.distplot(paid['Price'])"
   ]
  },
  {
   "cell_type": "markdown",
   "metadata": {},
   "source": [
    "We can see how extreme the 400 value lies.\n",
    "We could see that even at the 75% percentile the data lies below $5\n",
    "###### What  could be the cause of this value being extreme.\n",
    "* Is it an entry error?\n",
    "\n",
    "We could say this is an abnormal data and shoud be droped.\n",
    "First lets check how many data are greater than the 100\n",
    "\n",
    "* Run the below cell\n"
   ]
  },
  {
   "cell_type": "code",
   "execution_count": 38,
   "metadata": {},
   "outputs": [
    {
     "data": {
      "text/html": [
       "<div>\n",
       "<style>\n",
       "    .dataframe thead tr:only-child th {\n",
       "        text-align: right;\n",
       "    }\n",
       "\n",
       "    .dataframe thead th {\n",
       "        text-align: left;\n",
       "    }\n",
       "\n",
       "    .dataframe tbody tr th {\n",
       "        vertical-align: top;\n",
       "    }\n",
       "</style>\n",
       "<table border=\"1\" class=\"dataframe\">\n",
       "  <thead>\n",
       "    <tr style=\"text-align: right;\">\n",
       "      <th></th>\n",
       "      <th>App</th>\n",
       "      <th>Category</th>\n",
       "      <th>Rating</th>\n",
       "      <th>Reviews</th>\n",
       "      <th>Size</th>\n",
       "      <th>Installs</th>\n",
       "      <th>Type</th>\n",
       "      <th>Price</th>\n",
       "      <th>Content Rating</th>\n",
       "      <th>Genres</th>\n",
       "      <th>Last Updated</th>\n",
       "      <th>Current Ver</th>\n",
       "      <th>Android Ver</th>\n",
       "    </tr>\n",
       "  </thead>\n",
       "  <tbody>\n",
       "    <tr>\n",
       "      <th>3327</th>\n",
       "      <td>most expensive app (H)</td>\n",
       "      <td>FAMILY</td>\n",
       "      <td>4.3</td>\n",
       "      <td>6</td>\n",
       "      <td>1.5</td>\n",
       "      <td>100+</td>\n",
       "      <td>Paid</td>\n",
       "      <td>399.99</td>\n",
       "      <td>Everyone</td>\n",
       "      <td>Entertainment</td>\n",
       "      <td>July 16, 2018</td>\n",
       "      <td>1</td>\n",
       "      <td>7.0 and up</td>\n",
       "    </tr>\n",
       "    <tr>\n",
       "      <th>3465</th>\n",
       "      <td>💎 I'm rich</td>\n",
       "      <td>LIFESTYLE</td>\n",
       "      <td>3.8</td>\n",
       "      <td>718</td>\n",
       "      <td>26.0</td>\n",
       "      <td>10,000+</td>\n",
       "      <td>Paid</td>\n",
       "      <td>399.99</td>\n",
       "      <td>Everyone</td>\n",
       "      <td>Lifestyle</td>\n",
       "      <td>March 11, 2018</td>\n",
       "      <td>1.0.0</td>\n",
       "      <td>4.4 and up</td>\n",
       "    </tr>\n",
       "    <tr>\n",
       "      <th>3469</th>\n",
       "      <td>I'm Rich - Trump Edition</td>\n",
       "      <td>LIFESTYLE</td>\n",
       "      <td>3.6</td>\n",
       "      <td>275</td>\n",
       "      <td>7.3</td>\n",
       "      <td>10,000+</td>\n",
       "      <td>Paid</td>\n",
       "      <td>400.00</td>\n",
       "      <td>Everyone</td>\n",
       "      <td>Lifestyle</td>\n",
       "      <td>May 3, 2018</td>\n",
       "      <td>1.0.1</td>\n",
       "      <td>4.1 and up</td>\n",
       "    </tr>\n",
       "    <tr>\n",
       "      <th>4396</th>\n",
       "      <td>I am rich</td>\n",
       "      <td>LIFESTYLE</td>\n",
       "      <td>3.8</td>\n",
       "      <td>3547</td>\n",
       "      <td>1.8</td>\n",
       "      <td>100,000+</td>\n",
       "      <td>Paid</td>\n",
       "      <td>399.99</td>\n",
       "      <td>Everyone</td>\n",
       "      <td>Lifestyle</td>\n",
       "      <td>January 12, 2018</td>\n",
       "      <td>2</td>\n",
       "      <td>4.0.3 and up</td>\n",
       "    </tr>\n",
       "    <tr>\n",
       "      <th>4398</th>\n",
       "      <td>I am Rich Plus</td>\n",
       "      <td>FAMILY</td>\n",
       "      <td>4.0</td>\n",
       "      <td>856</td>\n",
       "      <td>8.7</td>\n",
       "      <td>10,000+</td>\n",
       "      <td>Paid</td>\n",
       "      <td>399.99</td>\n",
       "      <td>Everyone</td>\n",
       "      <td>Entertainment</td>\n",
       "      <td>May 19, 2018</td>\n",
       "      <td>3</td>\n",
       "      <td>4.4 and up</td>\n",
       "    </tr>\n",
       "    <tr>\n",
       "      <th>4399</th>\n",
       "      <td>I am rich VIP</td>\n",
       "      <td>LIFESTYLE</td>\n",
       "      <td>3.8</td>\n",
       "      <td>411</td>\n",
       "      <td>2.6</td>\n",
       "      <td>10,000+</td>\n",
       "      <td>Paid</td>\n",
       "      <td>299.99</td>\n",
       "      <td>Everyone</td>\n",
       "      <td>Lifestyle</td>\n",
       "      <td>July 21, 2018</td>\n",
       "      <td>1.1.1</td>\n",
       "      <td>4.3 and up</td>\n",
       "    </tr>\n",
       "    <tr>\n",
       "      <th>4400</th>\n",
       "      <td>I Am Rich Premium</td>\n",
       "      <td>FINANCE</td>\n",
       "      <td>4.1</td>\n",
       "      <td>1867</td>\n",
       "      <td>4.7</td>\n",
       "      <td>50,000+</td>\n",
       "      <td>Paid</td>\n",
       "      <td>399.99</td>\n",
       "      <td>Everyone</td>\n",
       "      <td>Finance</td>\n",
       "      <td>November 12, 2017</td>\n",
       "      <td>1.6</td>\n",
       "      <td>4.0 and up</td>\n",
       "    </tr>\n",
       "    <tr>\n",
       "      <th>4401</th>\n",
       "      <td>I am extremely Rich</td>\n",
       "      <td>LIFESTYLE</td>\n",
       "      <td>2.9</td>\n",
       "      <td>41</td>\n",
       "      <td>2.9</td>\n",
       "      <td>1,000+</td>\n",
       "      <td>Paid</td>\n",
       "      <td>379.99</td>\n",
       "      <td>Everyone</td>\n",
       "      <td>Lifestyle</td>\n",
       "      <td>July 1, 2018</td>\n",
       "      <td>1</td>\n",
       "      <td>4.0 and up</td>\n",
       "    </tr>\n",
       "    <tr>\n",
       "      <th>4402</th>\n",
       "      <td>I am Rich!</td>\n",
       "      <td>FINANCE</td>\n",
       "      <td>3.8</td>\n",
       "      <td>93</td>\n",
       "      <td>22.0</td>\n",
       "      <td>1,000+</td>\n",
       "      <td>Paid</td>\n",
       "      <td>399.99</td>\n",
       "      <td>Everyone</td>\n",
       "      <td>Finance</td>\n",
       "      <td>December 11, 2017</td>\n",
       "      <td>1</td>\n",
       "      <td>4.1 and up</td>\n",
       "    </tr>\n",
       "    <tr>\n",
       "      <th>4403</th>\n",
       "      <td>I am rich(premium)</td>\n",
       "      <td>FINANCE</td>\n",
       "      <td>3.5</td>\n",
       "      <td>472</td>\n",
       "      <td>1.0</td>\n",
       "      <td>5,000+</td>\n",
       "      <td>Paid</td>\n",
       "      <td>399.99</td>\n",
       "      <td>Everyone</td>\n",
       "      <td>Finance</td>\n",
       "      <td>May 1, 2017</td>\n",
       "      <td>3.4</td>\n",
       "      <td>4.4 and up</td>\n",
       "    </tr>\n",
       "    <tr>\n",
       "      <th>4406</th>\n",
       "      <td>I Am Rich Pro</td>\n",
       "      <td>FAMILY</td>\n",
       "      <td>4.4</td>\n",
       "      <td>201</td>\n",
       "      <td>2.7</td>\n",
       "      <td>5,000+</td>\n",
       "      <td>Paid</td>\n",
       "      <td>399.99</td>\n",
       "      <td>Everyone</td>\n",
       "      <td>Entertainment</td>\n",
       "      <td>May 30, 2017</td>\n",
       "      <td>1.54</td>\n",
       "      <td>1.6 and up</td>\n",
       "    </tr>\n",
       "    <tr>\n",
       "      <th>4408</th>\n",
       "      <td>I am rich (Most expensive app)</td>\n",
       "      <td>FINANCE</td>\n",
       "      <td>4.1</td>\n",
       "      <td>129</td>\n",
       "      <td>2.7</td>\n",
       "      <td>1,000+</td>\n",
       "      <td>Paid</td>\n",
       "      <td>399.99</td>\n",
       "      <td>Teen</td>\n",
       "      <td>Finance</td>\n",
       "      <td>December 6, 2017</td>\n",
       "      <td>2</td>\n",
       "      <td>4.0.3 and up</td>\n",
       "    </tr>\n",
       "    <tr>\n",
       "      <th>4410</th>\n",
       "      <td>I Am Rich</td>\n",
       "      <td>FAMILY</td>\n",
       "      <td>3.6</td>\n",
       "      <td>217</td>\n",
       "      <td>4.9</td>\n",
       "      <td>10,000+</td>\n",
       "      <td>Paid</td>\n",
       "      <td>389.99</td>\n",
       "      <td>Everyone</td>\n",
       "      <td>Entertainment</td>\n",
       "      <td>June 22, 2018</td>\n",
       "      <td>1.5</td>\n",
       "      <td>4.2 and up</td>\n",
       "    </tr>\n",
       "    <tr>\n",
       "      <th>4413</th>\n",
       "      <td>I am Rich</td>\n",
       "      <td>FINANCE</td>\n",
       "      <td>4.3</td>\n",
       "      <td>180</td>\n",
       "      <td>3.8</td>\n",
       "      <td>5,000+</td>\n",
       "      <td>Paid</td>\n",
       "      <td>399.99</td>\n",
       "      <td>Everyone</td>\n",
       "      <td>Finance</td>\n",
       "      <td>March 22, 2018</td>\n",
       "      <td>1</td>\n",
       "      <td>4.2 and up</td>\n",
       "    </tr>\n",
       "    <tr>\n",
       "      <th>4417</th>\n",
       "      <td>I AM RICH PRO PLUS</td>\n",
       "      <td>FINANCE</td>\n",
       "      <td>4.0</td>\n",
       "      <td>36</td>\n",
       "      <td>41.0</td>\n",
       "      <td>1,000+</td>\n",
       "      <td>Paid</td>\n",
       "      <td>399.99</td>\n",
       "      <td>Everyone</td>\n",
       "      <td>Finance</td>\n",
       "      <td>June 25, 2018</td>\n",
       "      <td>1.0.2</td>\n",
       "      <td>4.1 and up</td>\n",
       "    </tr>\n",
       "  </tbody>\n",
       "</table>\n",
       "</div>"
      ],
      "text/plain": [
       "                                 App   Category  Rating  Reviews  Size  \\\n",
       "3327          most expensive app (H)     FAMILY     4.3        6   1.5   \n",
       "3465                      💎 I'm rich  LIFESTYLE     3.8      718  26.0   \n",
       "3469        I'm Rich - Trump Edition  LIFESTYLE     3.6      275   7.3   \n",
       "4396                       I am rich  LIFESTYLE     3.8     3547   1.8   \n",
       "4398                  I am Rich Plus     FAMILY     4.0      856   8.7   \n",
       "4399                   I am rich VIP  LIFESTYLE     3.8      411   2.6   \n",
       "4400               I Am Rich Premium    FINANCE     4.1     1867   4.7   \n",
       "4401             I am extremely Rich  LIFESTYLE     2.9       41   2.9   \n",
       "4402                      I am Rich!    FINANCE     3.8       93  22.0   \n",
       "4403              I am rich(premium)    FINANCE     3.5      472   1.0   \n",
       "4406                   I Am Rich Pro     FAMILY     4.4      201   2.7   \n",
       "4408  I am rich (Most expensive app)    FINANCE     4.1      129   2.7   \n",
       "4410                       I Am Rich     FAMILY     3.6      217   4.9   \n",
       "4413                       I am Rich    FINANCE     4.3      180   3.8   \n",
       "4417              I AM RICH PRO PLUS    FINANCE     4.0       36  41.0   \n",
       "\n",
       "      Installs  Type   Price Content Rating         Genres       Last Updated  \\\n",
       "3327      100+  Paid  399.99       Everyone  Entertainment      July 16, 2018   \n",
       "3465   10,000+  Paid  399.99       Everyone      Lifestyle     March 11, 2018   \n",
       "3469   10,000+  Paid  400.00       Everyone      Lifestyle        May 3, 2018   \n",
       "4396  100,000+  Paid  399.99       Everyone      Lifestyle   January 12, 2018   \n",
       "4398   10,000+  Paid  399.99       Everyone  Entertainment       May 19, 2018   \n",
       "4399   10,000+  Paid  299.99       Everyone      Lifestyle      July 21, 2018   \n",
       "4400   50,000+  Paid  399.99       Everyone        Finance  November 12, 2017   \n",
       "4401    1,000+  Paid  379.99       Everyone      Lifestyle       July 1, 2018   \n",
       "4402    1,000+  Paid  399.99       Everyone        Finance  December 11, 2017   \n",
       "4403    5,000+  Paid  399.99       Everyone        Finance        May 1, 2017   \n",
       "4406    5,000+  Paid  399.99       Everyone  Entertainment       May 30, 2017   \n",
       "4408    1,000+  Paid  399.99           Teen        Finance   December 6, 2017   \n",
       "4410   10,000+  Paid  389.99       Everyone  Entertainment      June 22, 2018   \n",
       "4413    5,000+  Paid  399.99       Everyone        Finance     March 22, 2018   \n",
       "4417    1,000+  Paid  399.99       Everyone        Finance      June 25, 2018   \n",
       "\n",
       "     Current Ver   Android Ver  \n",
       "3327           1    7.0 and up  \n",
       "3465       1.0.0    4.4 and up  \n",
       "3469       1.0.1    4.1 and up  \n",
       "4396           2  4.0.3 and up  \n",
       "4398           3    4.4 and up  \n",
       "4399       1.1.1    4.3 and up  \n",
       "4400         1.6    4.0 and up  \n",
       "4401           1    4.0 and up  \n",
       "4402           1    4.1 and up  \n",
       "4403         3.4    4.4 and up  \n",
       "4406        1.54    1.6 and up  \n",
       "4408           2  4.0.3 and up  \n",
       "4410         1.5    4.2 and up  \n",
       "4413           1    4.2 and up  \n",
       "4417       1.0.2    4.1 and up  "
      ]
     },
     "execution_count": 38,
     "metadata": {},
     "output_type": "execute_result"
    }
   ],
   "source": [
    "paid[paid['Price'] >= 100]"
   ]
  },
  {
   "cell_type": "markdown",
   "metadata": {},
   "source": [
    "It is worth noting that app category such as Family, Finance and Lifestyle tend to have very high price. You might want to explore this further\n",
    "\n",
    "##### Exploring with Plots\n",
    "\n",
    "Now lets group the data by category. We can use the groupby() method of pandas. \\\n",
    "This returns a generator which we can use to aggregate the dataframe"
   ]
  },
  {
   "cell_type": "code",
   "execution_count": 39,
   "metadata": {},
   "outputs": [],
   "source": [
    "# group the data using the groupby method\n",
    "by_category = df.groupby('Category')"
   ]
  },
  {
   "cell_type": "markdown",
   "metadata": {},
   "source": [
    "Use the grouped data to find the mean price of each category"
   ]
  },
  {
   "cell_type": "code",
   "execution_count": 40,
   "metadata": {},
   "outputs": [],
   "source": [
    "means = by_category.mean()['Price']"
   ]
  },
  {
   "cell_type": "code",
   "execution_count": 41,
   "metadata": {},
   "outputs": [
    {
     "data": {
      "text/plain": [
       "Category\n",
       "ART_AND_DESIGN         0.102931\n",
       "AUTO_AND_VEHICLES      0.000000\n",
       "BEAUTY                 0.000000\n",
       "BOOKS_AND_REFERENCE    0.148156\n",
       "BUSINESS               0.231622\n",
       "COMICS                 0.000000\n",
       "COMMUNICATION          0.221968\n",
       "DATING                 0.122787\n",
       "EDUCATION              0.204091\n",
       "ENTERTAINMENT          0.046719\n",
       "EVENTS                 0.000000\n",
       "FAMILY                 1.468187\n",
       "FINANCE                9.456860\n",
       "FOOD_AND_DRINK         0.069306\n",
       "GAME                   0.326190\n",
       "HEALTH_AND_FITNESS     0.180209\n",
       "HOUSE_AND_HOME         0.000000\n",
       "LIBRARIES_AND_DEMO     0.000000\n",
       "LIFESTYLE              7.261710\n",
       "MAPS_AND_NAVIGATION    0.159149\n",
       "MEDICAL                2.199098\n",
       "NEWS_AND_MAGAZINES     0.025844\n",
       "PARENTING              0.113409\n",
       "PERSONALIZATION        0.420876\n",
       "PHOTOGRAPHY            0.325343\n",
       "PRODUCTIVITY           0.237489\n",
       "SHOPPING               0.037534\n",
       "SOCIAL                 0.012692\n",
       "SPORTS                 0.363032\n",
       "TOOLS                  0.293760\n",
       "TRAVEL_AND_LOCAL       0.188014\n",
       "VIDEO_PLAYERS          0.008839\n",
       "WEATHER                0.468800\n",
       "Name: Price, dtype: float64"
      ]
     },
     "execution_count": 41,
     "metadata": {},
     "output_type": "execute_result"
    }
   ],
   "source": [
    "means"
   ]
  },
  {
   "cell_type": "markdown",
   "metadata": {},
   "source": [
    "Now we plot a barchart of the top ten apps with the highest price\n",
    "\n",
    "sort the data and store back to means\n",
    "\n",
    "Then we will plot with the seaborn barplot to visualize our data"
   ]
  },
  {
   "cell_type": "code",
   "execution_count": 45,
   "metadata": {},
   "outputs": [],
   "source": [
    "# sort the data in descending order and grab the top 10\n",
    "\n",
    "top_10 = means.sort_values(ascending = False)[:10]"
   ]
  },
  {
   "cell_type": "code",
   "execution_count": 46,
   "metadata": {},
   "outputs": [
    {
     "name": "stdout",
     "output_type": "stream",
     "text": [
      "Category\n",
      "FINANCE            9.456860\n",
      "LIFESTYLE          7.261710\n",
      "MEDICAL            2.199098\n",
      "FAMILY             1.468187\n",
      "WEATHER            0.468800\n",
      "PERSONALIZATION    0.420876\n",
      "SPORTS             0.363032\n",
      "GAME               0.326190\n",
      "PHOTOGRAPHY        0.325343\n",
      "TOOLS              0.293760\n",
      "Name: Price, dtype: float64\n"
     ]
    }
   ],
   "source": [
    "print(top_10)"
   ]
  },
  {
   "cell_type": "code",
   "execution_count": 47,
   "metadata": {},
   "outputs": [],
   "source": [
    "x = top_10.index  # grabs the names\n",
    "y = top_10.values # grab the means"
   ]
  },
  {
   "cell_type": "code",
   "execution_count": 51,
   "metadata": {},
   "outputs": [
    {
     "data": {
      "text/plain": [
       "<matplotlib.axes._subplots.AxesSubplot at 0x157d627ccc0>"
      ]
     },
     "execution_count": 51,
     "metadata": {},
     "output_type": "execute_result"
    },
    {
     "data": {
      "image/png": "[encoded data removed]",
      "text/plain": [
       "<matplotlib.figure.Figure at 0x157d627c128>"
      ]
     },
     "metadata": {},
     "output_type": "display_data"
    }
   ],
   "source": [
    "# use the seaborn barplot to plot a barchart\n",
    "plt.figure(figsize=(14,6))\n",
    "sns.barplot(x,y)"
   ]
  },
  {
   "cell_type": "markdown",
   "metadata": {},
   "source": [
    "Nice view! "
   ]
  },
  {
   "cell_type": "markdown",
   "metadata": {},
   "source": [
    "Using the paid data, is there a relationship between app rating an price \n",
    "\n",
    "* Using sns.scatter to make a scatter plot between Rating and Price"
   ]
  },
  {
   "cell_type": "code",
   "execution_count": 54,
   "metadata": {},
   "outputs": [
    {
     "data": {
      "text/plain": [
       "<matplotlib.collections.PathCollection at 0x157d645beb8>"
      ]
     },
     "execution_count": 54,
     "metadata": {},
     "output_type": "execute_result"
    },
    {
     "data": {
      "image/png": "[encoded data removed]",
      "text/plain": [
       "<matplotlib.figure.Figure at 0x157d6506240>"
      ]
     },
     "metadata": {},
     "output_type": "display_data"
    }
   ],
   "source": [
    "plt.scatter(paid['Rating'], paid['Price'])"
   ]
  },
  {
   "cell_type": "markdown",
   "metadata": {},
   "source": [
    "Now Lets Check the most installed apps in the whole data\n",
    "* check the Installs column"
   ]
  },
  {
   "cell_type": "code",
   "execution_count": 55,
   "metadata": {},
   "outputs": [
    {
     "data": {
      "text/plain": [
       "0           10,000+\n",
       "1          500,000+\n",
       "2        5,000,000+\n",
       "3       50,000,000+\n",
       "4          100,000+\n",
       "5           50,000+\n",
       "6           50,000+\n",
       "7        1,000,000+\n",
       "8        1,000,000+\n",
       "9           10,000+\n",
       "10       1,000,000+\n",
       "11       1,000,000+\n",
       "12      10,000,000+\n",
       "13         100,000+\n",
       "14         100,000+\n",
       "16         500,000+\n",
       "17          10,000+\n",
       "18       5,000,000+\n",
       "19      10,000,000+\n",
       "20         100,000+\n",
       "21         100,000+\n",
       "22         500,000+\n",
       "24          50,000+\n",
       "25          10,000+\n",
       "26         500,000+\n",
       "27         100,000+\n",
       "28          10,000+\n",
       "29         100,000+\n",
       "30         100,000+\n",
       "31          50,000+\n",
       "           ...     \n",
       "9610     1,000,000+\n",
       "9611       500,000+\n",
       "9613       100,000+\n",
       "9614     1,000,000+\n",
       "9615     1,000,000+\n",
       "9617       100,000+\n",
       "9618         5,000+\n",
       "9619         1,000+\n",
       "9620        10,000+\n",
       "9621     1,000,000+\n",
       "9622       100,000+\n",
       "9623           100+\n",
       "9627     1,000,000+\n",
       "9628           100+\n",
       "9630         1,000+\n",
       "9632        50,000+\n",
       "9633       500,000+\n",
       "9635       100,000+\n",
       "9637         5,000+\n",
       "9638         1,000+\n",
       "9645         5,000+\n",
       "9646        10,000+\n",
       "9647        10,000+\n",
       "9648       100,000+\n",
       "9650       100,000+\n",
       "9651         1,000+\n",
       "9652           500+\n",
       "9654         5,000+\n",
       "9655           100+\n",
       "9658    10,000,000+\n",
       "Name: Installs, Length: 7021, dtype: object"
      ]
     },
     "execution_count": 55,
     "metadata": {},
     "output_type": "execute_result"
    }
   ],
   "source": [
    "df['Installs']"
   ]
  },
  {
   "cell_type": "markdown",
   "metadata": {},
   "source": [
    "we will notice that the Installs column is have object datatype. \\\n",
    "we need to remove all  characters and punctuations then convert to int. Luckily the string.replace() method can do this for us\n",
    "> Note: we could also use the string.strip() method to remove the `+` sign \n",
    "\n",
    "* replace the characters ',' and '+' character from the string\n",
    "I have defined a function that will do this for us. You just need to apply the function to the data\n",
    "* Apply the below function to the Installs columns"
   ]
  },
  {
   "cell_type": "code",
   "execution_count": 57,
   "metadata": {},
   "outputs": [],
   "source": [
    "def remove_punc(val):\n",
    "    # remove ',' and replace with nothing\n",
    "    val = val.replace(',', '')\n",
    "    \n",
    "    # remove '+' and replace with nothing\n",
    "    val = val.replace('+', '')\n",
    "    \n",
    "    val = int(val)\n",
    "    \n",
    "    return val"
   ]
  },
  {
   "cell_type": "markdown",
   "metadata": {},
   "source": [
    "Apply function to data"
   ]
  },
  {
   "cell_type": "code",
   "execution_count": 58,
   "metadata": {},
   "outputs": [],
   "source": [
    "df['Installs']=df['Installs'].apply(remove_punc)"
   ]
  },
  {
   "cell_type": "code",
   "execution_count": 59,
   "metadata": {},
   "outputs": [
    {
     "data": {
      "text/plain": [
       "0          10000\n",
       "1         500000\n",
       "2        5000000\n",
       "3       50000000\n",
       "4         100000\n",
       "5          50000\n",
       "6          50000\n",
       "7        1000000\n",
       "8        1000000\n",
       "9          10000\n",
       "10       1000000\n",
       "11       1000000\n",
       "12      10000000\n",
       "13        100000\n",
       "14        100000\n",
       "16        500000\n",
       "17         10000\n",
       "18       5000000\n",
       "19      10000000\n",
       "20        100000\n",
       "21        100000\n",
       "22        500000\n",
       "24         50000\n",
       "25         10000\n",
       "26        500000\n",
       "27        100000\n",
       "28         10000\n",
       "29        100000\n",
       "30        100000\n",
       "31         50000\n",
       "          ...   \n",
       "9610     1000000\n",
       "9611      500000\n",
       "9613      100000\n",
       "9614     1000000\n",
       "9615     1000000\n",
       "9617      100000\n",
       "9618        5000\n",
       "9619        1000\n",
       "9620       10000\n",
       "9621     1000000\n",
       "9622      100000\n",
       "9623         100\n",
       "9627     1000000\n",
       "9628         100\n",
       "9630        1000\n",
       "9632       50000\n",
       "9633      500000\n",
       "9635      100000\n",
       "9637        5000\n",
       "9638        1000\n",
       "9645        5000\n",
       "9646       10000\n",
       "9647       10000\n",
       "9648      100000\n",
       "9650      100000\n",
       "9651        1000\n",
       "9652         500\n",
       "9654        5000\n",
       "9655         100\n",
       "9658    10000000\n",
       "Name: Installs, Length: 7021, dtype: int64"
      ]
     },
     "execution_count": 59,
     "metadata": {},
     "output_type": "execute_result"
    }
   ],
   "source": [
    "df['Installs']"
   ]
  },
  {
   "cell_type": "markdown",
   "metadata": {},
   "source": [
    "Now our Installs column is now ready for numeric analysis\n",
    "\n",
    "lets get the unique number of apps firstly"
   ]
  },
  {
   "cell_type": "code",
   "execution_count": 61,
   "metadata": {},
   "outputs": [
    {
     "data": {
      "text/plain": [
       "7021"
      ]
     },
     "execution_count": 61,
     "metadata": {},
     "output_type": "execute_result"
    }
   ],
   "source": [
    "df['App'].nunique()"
   ]
  },
  {
   "cell_type": "markdown",
   "metadata": {},
   "source": [
    "Now we will sort the data by number of downloads (Installs) in descending order"
   ]
  },
  {
   "cell_type": "code",
   "execution_count": 63,
   "metadata": {},
   "outputs": [
    {
     "data": {
      "text/plain": [
       "1356                                       Subway Surfers\n",
       "2977                                          Google News\n",
       "1357                                     Candy Crush Saga\n",
       "2739                                              Dropbox\n",
       "311                         imo free video calls and chat\n",
       "1363                                         Temple Run 2\n",
       "1364                                                  Pou\n",
       "342           UC Browser - Fast Download Private & Secure\n",
       "4623                                       Samsung Health\n",
       "2527                           SHAREit - Transfer & Share\n",
       "7354                                          FIFA Soccer\n",
       "3873    Avast Mobile Security 2018 - Antivirus & App Lock\n",
       "3865                               Talking Tom & Ben News\n",
       "1375                                              PAC-MAN\n",
       "1372                                       Clash of Clans\n",
       "1517                                              Yes day\n",
       "1377                                          8 Ball Pool\n",
       "3354                               Where's My Water? Free\n",
       "724                                      IMDb Movies & TV\n",
       "729                                   Talking Ben the Dog\n",
       "1441                                         Trivia Crack\n",
       "2787    WPS Office - Word, Docs, PDF, Note, Slide & Sheet\n",
       "7359                              Automatic Call Recorder\n",
       "1522                                          Crossy Road\n",
       "3213                                               Vector\n",
       "1382                                  Angry Birds Classic\n",
       "1383                                            Flow Free\n",
       "4961                                          Banana Kong\n",
       "710                                        Talking Angela\n",
       "1527                                       Shadow Fight 2\n",
       "                              ...                        \n",
       "6355                                 Trovami se ci riesci\n",
       "4518                           meStudying: AP English Lit\n",
       "8624                                            ER Assist\n",
       "5483                                        BM speed test\n",
       "5482                                      BAMMS for BM SQ\n",
       "6095                                          CB Register\n",
       "4503     ap,wifi testing,iperf,ping,android,Bluetooth,tcp\n",
       "7920                                        Chronolink DX\n",
       "1923                                       Labs on Demand\n",
       "7306                   DG OFF - 100% Free Coupons & Deals\n",
       "6426                                          211:CK Lite\n",
       "6428                           USMLE Step 2 CK Flashcards\n",
       "8386                                     Hum Ek Hain 2.02\n",
       "1935                                        PrimeDelivery\n",
       "5885                                      Skull Widget BW\n",
       "5239                                           Barbers.BH\n",
       "1936                                      You're an Anime\n",
       "4043                                 Easy Hotspot Ad Free\n",
       "6672                                              CQ ESPM\n",
       "8098                                  EB Cash Collections\n",
       "5669                                     Brick Breaker BR\n",
       "1962                                    Clinic Doctor EHr\n",
       "1937      Anatomy & Physiology Vocabulary Exam Review App\n",
       "1928                                      Tablet Reminder\n",
       "7078                                              CZ-Help\n",
       "6103                                            CB Heroes\n",
       "9387                                          FK Atlantas\n",
       "4928                                             Ra Ga Ba\n",
       "1932                                  KBA-EZ Health Guide\n",
       "9520                                              Mu.F.O.\n",
       "Name: App, Length: 7021, dtype: object"
      ]
     },
     "execution_count": 63,
     "metadata": {},
     "output_type": "execute_result"
    }
   ],
   "source": [
    "df.sort_values('Installs', ascending=False)['App']"
   ]
  },
  {
   "cell_type": "markdown",
   "metadata": {},
   "source": [
    "We can see that subway is the most downloaded app \\\n",
    "*** Greate Job ***"
   ]
  },
  {
   "cell_type": "code",
   "execution_count": null,
   "metadata": {},
   "outputs": [],
   "source": []
  }
 ],
 "metadata": {
  "kernelspec": {
   "display_name": "Python 3",
   "language": "python",
   "name": "python3"
  },
  "language_info": {
   "codemirror_mode": {
    "name": "ipython",
    "version": 3
   },
   "file_extension": ".py",
   "mimetype": "text/x-python",
   "name": "python",
   "nbconvert_exporter": "python",
   "pygments_lexer": "ipython3",
   "version": "3.6.2"
  }
 },
 "nbformat": 4,
 "nbformat_minor": 4
}
